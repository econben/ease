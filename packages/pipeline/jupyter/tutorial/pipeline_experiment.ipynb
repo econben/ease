{
 "cells": [
  {
   "cell_type": "markdown",
   "metadata": {},
   "source": [
    "Previous: [Big Picture](big_picture.ipynb) ::: Next: [pipeline_vis](pipeline_vis.ipynb)\n",
    "\n",
    "\n",
    "# Schema `experiment`"
   ]
  },
  {
   "cell_type": "markdown",
   "metadata": {},
   "source": [
    "## Setup notebook appearance "
   ]
  },
  {
   "cell_type": "code",
   "execution_count": null,
   "metadata": {},
   "outputs": [],
   "source": [
    "%pylab inline\n",
    "pylab.rcParams['figure.figsize'] = (5, 5) "
   ]
  },
  {
   "cell_type": "markdown",
   "metadata": {},
   "source": [
    "## Modules = schemas \n",
    "The data pipeline consists of modules also called \"schemas\" because each module represents a schema (database) on the database server.  \n",
    "\n",
    "The first schemas you need to know are `experiment`, `psy`, and `preprocessing`.  They contain information entered during experiments and immediate preprocessing of the data."
   ]
  },
  {
   "cell_type": "markdown",
   "metadata": {},
   "source": [
    "## Schema `experiment`\n",
    "\n",
    "The `experiment` schema contains data entered manually during the experiment."
   ]
  },
  {
   "cell_type": "code",
   "execution_count": null,
   "metadata": {},
   "outputs": [],
   "source": [
    "import datajoint as dj\n",
    "from pipeline.experiment import *"
   ]
  },
  {
   "cell_type": "markdown",
   "metadata": {},
   "source": [
    "During the two-photon experiments, users enter information in the `pipeline_experiment` database in tables `Session`, `Session.Fluorophore`, and `Scan`.  If a scan should not be processed, it is also entered in `ScanIgnored`."
   ]
  },
  {
   "cell_type": "code",
   "execution_count": null,
   "metadata": {},
   "outputs": [],
   "source": [
    "(dj.ERD(Session)+2).draw()"
   ]
  },
  {
   "cell_type": "markdown",
   "metadata": {},
   "source": [
    "The manual tables have many references to lookup tables that define the allowed choices."
   ]
  },
  {
   "cell_type": "code",
   "execution_count": null,
   "metadata": {},
   "outputs": [],
   "source": [
    "(dj.ERD(Session)-1+1-dj.ERD(Scan)).draw()"
   ]
  },
  {
   "cell_type": "code",
   "execution_count": null,
   "metadata": {},
   "outputs": [],
   "source": [
    "(dj.ERD(Scan)-1).draw()"
   ]
  },
  {
   "cell_type": "markdown",
   "metadata": {},
   "source": [
    "Each node represents a table in the database and a class in the module.  The lines between them represents dependencies.\n",
    "\n",
    "You may preview the contents any table using its `__repr__` method:"
   ]
  },
  {
   "cell_type": "code",
   "execution_count": null,
   "metadata": {},
   "outputs": [],
   "source": [
    "Session()"
   ]
  },
  {
   "cell_type": "markdown",
   "metadata": {},
   "source": [
    "The first few column names in _italics_ represent the _primary key_ of the relation, i.e. the identifying information for each row.\n",
    "\n",
    "We use the terms _table_ and _relation_ interchangeably.  A table _row_ may also be called a _tuple_.\n",
    "\n",
    "You may _restrict_ a relaiton to a subset of its rows using the `&` operator:"
   ]
  },
  {
   "cell_type": "code",
   "execution_count": null,
   "metadata": {},
   "outputs": [],
   "source": [
    "Session() & 'session_date>\"2016-05-01\"' & 'username=\"Jake\"'"
   ]
  },
  {
   "cell_type": "markdown",
   "metadata": {},
   "source": [
    "You may restrict one relation by another:"
   ]
  },
  {
   "cell_type": "code",
   "execution_count": null,
   "metadata": {},
   "outputs": [],
   "source": [
    "recent = Session() & 'session_date>\"2016-05-01\"'\n",
    "(Scan() & 'laser_power>50') & recent"
   ]
  },
  {
   "cell_type": "markdown",
   "metadata": {},
   "source": [
    "The negative restriction uses the - operator and denotes \"all except\":"
   ]
  },
  {
   "cell_type": "code",
   "execution_count": null,
   "metadata": {},
   "outputs": [],
   "source": [
    "Scan() - recent  & 'laser_power>=60'"
   ]
  },
  {
   "cell_type": "markdown",
   "metadata": {},
   "source": [
    "You may join two tables into one using the `*` operator.  "
   ]
  },
  {
   "cell_type": "code",
   "execution_count": null,
   "metadata": {},
   "outputs": [],
   "source": [
    "scans = Scan()*Session() & (Session.Fluorophore() & dict(fluorophore=\"GCaMP6f\"))\n",
    "scans"
   ]
  },
  {
   "cell_type": "markdown",
   "metadata": {},
   "source": [
    "Joins and restrictions with other relations are meaningful even when they are not directly linked in the ERD. As long as there is a path from table `A` to `B` along solid lines, the join `A * B` or the restriction `A & B` is meaningful.  \n",
    "\n",
    "Solid lines represent prime dependencies, which propagate identifying information down the hiearachy. "
   ]
  },
  {
   "cell_type": "markdown",
   "metadata": {},
   "source": [
    "You can see the descriptions of all attributes using the heading property:"
   ]
  },
  {
   "cell_type": "code",
   "execution_count": null,
   "metadata": {},
   "outputs": [],
   "source": [
    "scans.heading"
   ]
  },
  {
   "cell_type": "markdown",
   "metadata": {},
   "source": [
    "When the desired query is formed, the data may be retrived using the `fetch` method:"
   ]
  },
  {
   "cell_type": "code",
   "execution_count": null,
   "metadata": {},
   "outputs": [],
   "source": [
    "data = scans.fetch()\n",
    "data[4]"
   ]
  },
  {
   "cell_type": "markdown",
   "metadata": {},
   "source": [
    "Or as a list of dicts,"
   ]
  },
  {
   "cell_type": "code",
   "execution_count": null,
   "metadata": {},
   "outputs": [],
   "source": [
    "data = scans.fetch.as_dict()\n",
    "data[4]"
   ]
  },
  {
   "cell_type": "markdown",
   "metadata": {},
   "source": [
    "You can fetch just the desired attributes using the `fetch['attr1', ..., 'attrn']` notation:"
   ]
  },
  {
   "cell_type": "code",
   "execution_count": null,
   "metadata": {},
   "outputs": [],
   "source": [
    "d, i= scans.fetch['session_date', 'scan_idx']\n",
    "d"
   ]
  },
  {
   "cell_type": "markdown",
   "metadata": {},
   "source": [
    "If curious, you may see the underlying SQL queries using the `make_sql` method:"
   ]
  },
  {
   "cell_type": "code",
   "execution_count": null,
   "metadata": {},
   "outputs": [],
   "source": [
    "scans.make_sql()"
   ]
  },
  {
   "cell_type": "markdown",
   "metadata": {},
   "source": [
    "Next: [pipeline_vis](pipeline_vis.ipynb)"
   ]
  }
 ],
 "metadata": {
  "kernelspec": {
   "display_name": "Python 3",
   "language": "python",
   "name": "python3"
  },
  "language_info": {
   "codemirror_mode": {
    "name": "ipython",
    "version": 3
   },
   "file_extension": ".py",
   "mimetype": "text/x-python",
   "name": "python",
   "nbconvert_exporter": "python",
   "pygments_lexer": "ipython3",
   "version": "3.5.0"
  }
 },
 "nbformat": 4,
 "nbformat_minor": 0
}
