{
 "cells": [
  {
   "cell_type": "markdown",
   "metadata": {},
   "source": [
    "Previous: [pipeline_experiment](pipeline_experiment.ipynb) | Next: [pipeline_preprocess](pipeline_preprocess.ipynb)\n",
    "# Schema `vis`\n",
    "Schema `pipeline.vis` is upstream from `preprocess` and it contains information about the visual stimulus entered by the stimulus software.\n",
    "\n",
    "#### Note that stimulus information used to be contained in the `psy` module.  It was moved to `vis` to isolate information relevant to the MICrONS project."
   ]
  },
  {
   "cell_type": "code",
   "execution_count": null,
   "metadata": {},
   "outputs": [],
   "source": [
    "%pylab inline\n",
    "import datajoint as dj\n",
    "from pipeline.vis import *\n",
    "matplotlib.rcParams['figure.figsize'] = (10.0, 9.0)"
   ]
  },
  {
   "cell_type": "markdown",
   "metadata": {},
   "source": [
    "Its three main tables are `vis.Session`, `vis.Condition`, and `vis.Trial`. Furthermore `vis.Condition` has many tables below specifying parameters specific to each type of stimulus condition."
   ]
  },
  {
   "cell_type": "code",
   "execution_count": null,
   "metadata": {},
   "outputs": [],
   "source": [
    "(dj.ERD(Condition)+1+Session+Trial).draw()"
   ]
  },
  {
   "cell_type": "markdown",
   "metadata": {},
   "source": [
    "\n",
    "Each `vis.Session` comprises multiple trials that each has only one condition.  The trial has timing information and refers to the general stimulus condition.\n",
    "\n",
    "---\n",
    "The type of condition is determined by the dependent tables of `vis.Condition` (e.g. `vis.Monet`, `vis.Trippy`, `vis.MovieClipCond`) that describe details that are specific to each type of visual stimulus. Some of these tables have lookup tables with cached data-intensive stimuli such as noise movies."
   ]
  },
  {
   "cell_type": "code",
   "execution_count": null,
   "metadata": {},
   "outputs": [],
   "source": [
    "(dj.ERD(MovieClipCond)+Monet-1).draw()"
   ]
  },
  {
   "cell_type": "markdown",
   "metadata": {},
   "source": [
    "Next: [pipeline_preprocess](pipeline_preprocess.ipynb)"
   ]
  }
 ],
 "metadata": {
  "kernelspec": {
   "display_name": "Python 3",
   "language": "python",
   "name": "python3"
  },
  "language_info": {
   "codemirror_mode": {
    "name": "ipython",
    "version": 3
   },
   "file_extension": ".py",
   "mimetype": "text/x-python",
   "name": "python",
   "nbconvert_exporter": "python",
   "pygments_lexer": "ipython3",
   "version": "3.5.0"
  }
 },
 "nbformat": 4,
 "nbformat_minor": 0
}
