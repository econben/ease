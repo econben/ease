{
 "cells": [
  {
   "cell_type": "markdown",
   "metadata": {},
   "source": [
    "Previous: [Synchronization](pipeline_synchronization.ipynb)  ::: Next [Process Movie](pipeline_prepare_movie.ipynb) \n",
    "# Example: processing the Monet stimulus\n",
    "In this notebook, we retrieve spikes inferred from the calcium traces and the synchronized visual stimuli of the type \"Monet\". "
   ]
  },
  {
   "cell_type": "code",
   "execution_count": null,
   "metadata": {},
   "outputs": [],
   "source": [
    "%pylab inline\n",
    "import datajoint as dj\n",
    "from pipeline import preprocess, vis"
   ]
  },
  {
   "cell_type": "markdown",
   "metadata": {},
   "source": [
    "First, let get the trials with the Monet stimulus.  Let's review the relevant ERD below:"
   ]
  },
  {
   "cell_type": "code",
   "execution_count": null,
   "metadata": {},
   "outputs": [],
   "source": [
    "(dj.ERD(vis.Monet)-2 + preprocess.Sync + vis.Trial).draw()"
   ]
  },
  {
   "cell_type": "markdown",
   "metadata": {},
   "source": [
    "The following query denotes all trials combined with synchronization information to the two-photon scan."
   ]
  },
  {
   "cell_type": "code",
   "execution_count": null,
   "metadata": {},
   "outputs": [],
   "source": [
    "trials = preprocess.Sync() * vis.Trial() & 'trial_idx between first_trial and last_trial'"
   ]
  },
  {
   "cell_type": "markdown",
   "metadata": {},
   "source": [
    "The `preprocess.Sync` table matches the calcium data with the visual stimuli. It identifies a sinlge two-photon recording and refers to the visual session `vis.Session`.\n",
    "\n",
    "The query uses the fields `first_trial` and `last_trial` in `preprocess.Sync` to select the correct trials from the matching visual session.\n",
    "\n",
    "---\n",
    "Now the table `preprocess.Spikes` and its part table `preprocess.Spikes.RateTrace` contain spike rate traces inferred from calcium recordings processed in one way out of several options. \n",
    "Below is the relevant ERD:"
   ]
  },
  {
   "cell_type": "code",
   "execution_count": null,
   "metadata": {},
   "outputs": [],
   "source": [
    "(dj.ERD(preprocess.Spikes)-3+1).draw()"
   ]
  },
  {
   "cell_type": "markdown",
   "metadata": {},
   "source": [
    "Thus the following query identifies all the datasets recorded with Monet trials:"
   ]
  },
  {
   "cell_type": "code",
   "execution_count": null,
   "metadata": {},
   "outputs": [],
   "source": [
    "monet_datasets = preprocess.Spikes() & (trials & vis.Monet())"
   ]
  },
  {
   "cell_type": "markdown",
   "metadata": {},
   "source": [
    "Some of these datasets represent the same recordings processed in different ways, which are enumerated in the lookup tables `preprocess.Method` and `preprocess.SpikeMethod`:"
   ]
  },
  {
   "cell_type": "code",
   "execution_count": null,
   "metadata": {},
   "outputs": [],
   "source": [
    "preprocess.Method() * preprocess.Method.Galvo()    # extraction methods for galvo microscopes"
   ]
  },
  {
   "cell_type": "code",
   "execution_count": null,
   "metadata": {},
   "outputs": [],
   "source": [
    "preprocess.SpikeMethod()"
   ]
  },
  {
   "cell_type": "markdown",
   "metadata": {},
   "source": [
    "We restrict the datasets to one processing method:"
   ]
  },
  {
   "cell_type": "code",
   "execution_count": null,
   "metadata": {},
   "outputs": [],
   "source": [
    "monet_datasets = (preprocess.Spikes() & \n",
    "                  (trials & vis.Monet()) & \n",
    "                  dict(extract_method=2, spike_method=5))\n",
    "monet_datasets"
   ]
  },
  {
   "cell_type": "markdown",
   "metadata": {},
   "source": [
    "---\n",
    "Now let's fetch the primary key values of these datasets so that we can address them individually:"
   ]
  },
  {
   "cell_type": "code",
   "execution_count": null,
   "metadata": {},
   "outputs": [],
   "source": [
    "keys = list(monet_datasets.fetch.keys())     # keys for relevant datasets\n",
    "key = keys[3]   #  identifies one dataset\n",
    "dict(key)"
   ]
  },
  {
   "cell_type": "markdown",
   "metadata": {},
   "source": [
    "---\n",
    "Now let's fetch all the relevant information for the dataset identified by `key`:"
   ]
  },
  {
   "cell_type": "code",
   "execution_count": null,
   "metadata": {},
   "outputs": [],
   "source": [
    "time = (preprocess.Sync() & key).fetch1['frame_times'].squeeze()  # calcium scan frame times\n",
    "traces = np.vstack((preprocess.Spikes.RateTrace() & key).fetch['rate_trace'])  # fetch traces\n",
    "nslices = len(time)/traces.shape[1]   # number of slices in recording.\n",
    "time = time[::nslices]   # keep only one timestamp per frame (ignore time offsets of slices)"
   ]
  },
  {
   "cell_type": "markdown",
   "metadata": {},
   "source": [
    "----\n",
    "Now let's iterate through the visual trials:"
   ]
  },
  {
   "cell_type": "code",
   "execution_count": null,
   "metadata": {},
   "outputs": [],
   "source": [
    "for trial_key in (trials & key).fetch.order_by('trial_idx').keys():\n",
    "    print(dict(trial_key))"
   ]
  },
  {
   "cell_type": "markdown",
   "metadata": {},
   "source": [
    "Now let's just look at the last trial addressed by `trial_key` (the last iteration of the loop above) and retrieve the stimulus movie shown during the trial:"
   ]
  },
  {
   "cell_type": "code",
   "execution_count": null,
   "metadata": {},
   "outputs": [],
   "source": [
    "stimulus_info = (vis.Trial()*vis.Monet()*vis.MonetLookup() & trial_key).fetch1()"
   ]
  },
  {
   "cell_type": "markdown",
   "metadata": {},
   "source": [
    "The `flip_times` field contains the time stamps of the frames of the movie on the same clock and same units as the `time` retrieved earlier for calcium traces from `preprocess.Sync`:"
   ]
  },
  {
   "cell_type": "code",
   "execution_count": null,
   "metadata": {},
   "outputs": [],
   "source": [
    "stimulus_info['flip_times'].flatten()   # the frame times of the visual stimulus"
   ]
  },
  {
   "cell_type": "code",
   "execution_count": null,
   "metadata": {},
   "outputs": [],
   "source": [
    "plt.imshow(stimulus_info['cached_movie'][:,:,100])   # show a frame from the movie\n",
    "plt.grid(False)"
   ]
  },
  {
   "cell_type": "markdown",
   "metadata": {},
   "source": [
    "The stimulus comprises periods of coherent motion.  The times and directions are contained in "
   ]
  },
  {
   "cell_type": "code",
   "execution_count": null,
   "metadata": {},
   "outputs": [],
   "source": [
    "stimulus_info['params'][3]['direction'][0,0].flatten()   # radians"
   ]
  },
  {
   "cell_type": "code",
   "execution_count": null,
   "metadata": {},
   "outputs": [],
   "source": [
    "stimulus_info['params'][3]['onsets'][0,0].flatten()    # motion onset times (s)"
   ]
  },
  {
   "cell_type": "code",
   "execution_count": null,
   "metadata": {},
   "outputs": [],
   "source": [
    "stimulus_info['params'][3]['onsets'][0,0].flatten()    # motion offset times (s)"
   ]
  },
  {
   "cell_type": "code",
   "execution_count": null,
   "metadata": {},
   "outputs": [],
   "source": [
    "stimulus_info['params'][3]['frametimes'][0,0].flatten()  # movie frame times (s) within trial"
   ]
  },
  {
   "cell_type": "markdown",
   "metadata": {},
   "source": [
    "---\n",
    "That's it.  That is all it takes to map receptive fields and directional tunign of cells using the Monet stimulus.\n",
    "\n",
    "Next [Process Movie](pipeline_prepare_movie.ipynb) "
   ]
  }
 ],
 "metadata": {
  "kernelspec": {
   "display_name": "Python 3",
   "language": "python",
   "name": "python3"
  },
  "language_info": {
   "codemirror_mode": {
    "name": "ipython",
    "version": 3
   },
   "file_extension": ".py",
   "mimetype": "text/x-python",
   "name": "python",
   "nbconvert_exporter": "python",
   "pygments_lexer": "ipython3",
   "version": "3.5.0"
  }
 },
 "nbformat": 4,
 "nbformat_minor": 0
}
