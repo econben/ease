{
 "cells": [
  {
   "cell_type": "markdown",
   "metadata": {},
   "source": [
    "Previous: [pipeline_vis](pipeline_vis.ipynb)  ::: Next [Synchronization](pipeline_synchronization.ipynb) \n",
    "\n",
    "# Schema `preprocess`"
   ]
  },
  {
   "cell_type": "code",
   "execution_count": null,
   "metadata": {},
   "outputs": [],
   "source": [
    "%pylab inline\n",
    "pylab.rcParams['figure.figsize'] = (6, 6)"
   ]
  },
  {
   "cell_type": "markdown",
   "metadata": {},
   "source": [
    "The `preprocess` schema extracts, aligns, and synchronizes multiphoton trace data from both galvo and AOD systems."
   ]
  },
  {
   "cell_type": "code",
   "execution_count": null,
   "metadata": {},
   "outputs": [],
   "source": [
    "import datajoint as dj\n",
    "from pipeline.preprocess import *"
   ]
  },
  {
   "cell_type": "markdown",
   "metadata": {},
   "source": [
    "Here are the main elements of the preprocess schema:"
   ]
  },
  {
   "cell_type": "code",
   "execution_count": null,
   "metadata": {},
   "outputs": [],
   "source": [
    "(dj.ERD.from_sequence([Prepare, Sync, ExtractRaw, Spikes])-1).draw()"
   ]
  },
  {
   "cell_type": "markdown",
   "metadata": {},
   "source": [
    "`Prepare` and `ExtractRaw` combine the information from the galvo-based two-photon setups and the AOD-based setup. They perform all the operations that are specific to each type of imaging so that subsequent processing is no longer distinguished.\n",
    "\n",
    "---\n",
    "\n",
    "Many tables have *part tables*. A part table is so tightly dependent to its master table that it is never modified separately from its master.  They are implemented as nested classes.  Only one level of nesting is allowed.  In other words, parts cannot have their own parts.  On the ERD, parts are shown in a smaller font with no color code.\n",
    "\n",
    "For example, `preprocess.Prepare` has many subtables that perform various jobs."
   ]
  },
  {
   "cell_type": "code",
   "execution_count": null,
   "metadata": {},
   "outputs": [],
   "source": [
    "dj.ERD(Prepare).add_parts().draw()"
   ]
  },
  {
   "cell_type": "markdown",
   "metadata": {},
   "source": [
    "Similarly, `preprocess.ExtractRaw` has several part tables."
   ]
  },
  {
   "cell_type": "code",
   "execution_count": null,
   "metadata": {},
   "outputs": [],
   "source": [
    "dj.ERD(ExtractRaw).add_parts().draw()"
   ]
  },
  {
   "cell_type": "markdown",
   "metadata": {},
   "source": [
    "## Example: fetching and plotting average images of scans.\n",
    "Many tables contain attributes of type `blob` or `longblob`, which contain array information such as images and traces:"
   ]
  },
  {
   "cell_type": "code",
   "execution_count": null,
   "metadata": {},
   "outputs": [],
   "source": [
    "Prepare.GalvoAverageFrame().heading"
   ]
  },
  {
   "cell_type": "markdown",
   "metadata": {},
   "source": [
    "---\n",
    "If you know the exact identity of the scan of interest, use it as restriction:"
   ]
  },
  {
   "cell_type": "code",
   "execution_count": null,
   "metadata": {},
   "outputs": [],
   "source": [
    "frames = Prepare.GalvoAverageFrame() & dict(animal_id=8623, slice=3, scan_idx=6)\n",
    "frames"
   ]
  },
  {
   "cell_type": "code",
   "execution_count": null,
   "metadata": {},
   "outputs": [],
   "source": [
    "# fetch data\n",
    "g, r = frames.fetch.order_by('channel')['frame']\n",
    "\n",
    "# plot data\n",
    "def normalize(img):\n",
    "    m = img.min()\n",
    "    return (img - m)/(img.max() - m)\n",
    "\n",
    "plt.imshow(np.stack(\n",
    "        [normalize(r), normalize(g), np.zeros_like(r)], 2))\n",
    "grid(False)"
   ]
  },
  {
   "cell_type": "markdown",
   "metadata": {},
   "source": [
    "---\n",
    "Alternatively, get a whole set of scans matching some condition."
   ]
  },
  {
   "cell_type": "code",
   "execution_count": null,
   "metadata": {},
   "outputs": [],
   "source": [
    "experiment.Fluorophore()"
   ]
  },
  {
   "cell_type": "code",
   "execution_count": null,
   "metadata": {},
   "outputs": [],
   "source": [
    "# select all slices imaged with GCaMP6f\n",
    "slices = Prepare()*Slice() & (\n",
    "    experiment.Session.Fluorophore() & 'fluorophore=\"GCaMP6f\"') & Prepare.GalvoAverageFrame()\n",
    "slices    "
   ]
  },
  {
   "cell_type": "markdown",
   "metadata": {},
   "source": [
    "---\n",
    "To address each entity in the set, get its primary key values with the `fetch.keys()` iterator. Then each key can be used in a restriction."
   ]
  },
  {
   "cell_type": "code",
   "execution_count": null,
   "metadata": {},
   "outputs": [],
   "source": [
    "keys = list(slices.fetch.keys())\n",
    "key = keys[8]   #  pick an arbitrary frame\n",
    "key"
   ]
  },
  {
   "cell_type": "code",
   "execution_count": null,
   "metadata": {},
   "outputs": [],
   "source": [
    "frames = Prepare.GalvoAverageFrame() & key  \n",
    "g, r = frames.fetch.order_by('channel')['frame']\n",
    "plt.imshow(np.stack(\n",
    "        [normalize(r), normalize(g), np.zeros_like(r)], 2))\n",
    "grid(False)"
   ]
  },
  {
   "cell_type": "markdown",
   "metadata": {},
   "source": [
    "## Example: Plot calcium traces and inferred spikes"
   ]
  },
  {
   "cell_type": "markdown",
   "metadata": {},
   "source": [
    "Raw calcium traces are hosted in `preprocess.ComputeTraces.Trace` whereas inferred spikes are hosted in `preprocess.Spikes.RateTrace`."
   ]
  },
  {
   "cell_type": "code",
   "execution_count": null,
   "metadata": {},
   "outputs": [],
   "source": [
    "calcium = ComputeTraces.Trace()\n",
    "spikes = Spikes.RateTrace()\n",
    "traces = calcium*spikes  # combined raw and spike rate traces\n",
    "traces.heading"
   ]
  },
  {
   "cell_type": "markdown",
   "metadata": {},
   "source": [
    "---\n",
    "### Select the preprocessing method"
   ]
  },
  {
   "cell_type": "code",
   "execution_count": null,
   "metadata": {},
   "outputs": [],
   "source": [
    "Method.Galvo()   #  trace extraction methods for galvo imaging"
   ]
  },
  {
   "cell_type": "code",
   "execution_count": null,
   "metadata": {},
   "outputs": [],
   "source": [
    "SpikeMethod()"
   ]
  },
  {
   "cell_type": "code",
   "execution_count": null,
   "metadata": {},
   "outputs": [],
   "source": [
    "traces &= dict(extract_method=2, spike_method=3)\n",
    "traces"
   ]
  },
  {
   "cell_type": "markdown",
   "metadata": {},
   "source": [
    "---\n",
    "Let's plot a random trace:"
   ]
  },
  {
   "cell_type": "code",
   "execution_count": null,
   "metadata": {},
   "outputs": [],
   "source": [
    "key = np.random.choice(list(traces.fetch.keys()))   # pick a random trace\n",
    "key"
   ]
  },
  {
   "cell_type": "code",
   "execution_count": null,
   "metadata": {},
   "outputs": [],
   "source": [
    "# fetch synchronized times\n",
    "times, nslices = (Sync()*Prepare.Galvo() & key).fetch1['frame_times', 'nslices']\n",
    "times = times[0,::nslices] - times[0,0]  # start at 0\n",
    "\n",
    "calcium, spikes = (traces & key).fetch1['trace', 'rate_trace']"
   ]
  },
  {
   "cell_type": "code",
   "execution_count": null,
   "metadata": {},
   "outputs": [],
   "source": [
    "import seaborn as sns\n",
    "with sns.axes_style('whitegrid'):\n",
    "    fig, ax = plt.subplots(2,1, sharex=True)\n",
    "ax[0].plot(times, calcium.squeeze(), label='Ca Trace')\n",
    "ax[1].plot(times, spikes.squeeze(), label='Spike Rate')\n",
    "ax[0].set_ylabel('Fluorescence')\n",
    "ax[1].set_ylabel('inferred spike rate')\n",
    "ax[1].set_xlabel('time [s]')\n",
    "sns.despine(fig)\n",
    "fig.tight_layout()"
   ]
  },
  {
   "cell_type": "markdown",
   "metadata": {},
   "source": [
    "---\n",
    "Next: [Synchronization](pipeline_synchronization.ipynb)"
   ]
  }
 ],
 "metadata": {
  "kernelspec": {
   "display_name": "Python 3",
   "language": "python",
   "name": "python3"
  },
  "language_info": {
   "codemirror_mode": {
    "name": "ipython",
    "version": 3
   },
   "file_extension": ".py",
   "mimetype": "text/x-python",
   "name": "python",
   "nbconvert_exporter": "python",
   "pygments_lexer": "ipython3",
   "version": "3.5.2"
  }
 },
 "nbformat": 4,
 "nbformat_minor": 0
}
