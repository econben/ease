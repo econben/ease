{
 "cells": [
  {
   "cell_type": "markdown",
   "metadata": {},
   "source": [
    "Previous: [pipeline_preprocess](pipeline_preprocess.ipynb)  ::: Next [process Monet](pipeline_prepare_monet.ipynb) \n",
    "\n",
    "---\n",
    "## How visual stimuli are synchronized and matched\n",
    "The stimulus computer and acquisition computers run on different clocks.  The table `preprocess.Sync` matches simultaneously recorded signals in both systems to synchronize the two recordings.\n",
    "\n",
    "The field `frame_times` in `preprocess.Sync` contains the times of the two-photon frames on the same clock as the `flip_times` in `vis.Trial`.  Furthermore, it has the reference to the `vis.Session`'s `psy.id` and the trial ids of the first and last trial that were played during the given scan (`preprocess.Sync` has 1-to-1 correspondence scans). "
   ]
  },
  {
   "cell_type": "code",
   "execution_count": null,
   "metadata": {},
   "outputs": [],
   "source": [
    "%pylab inline\n",
    "pylab.rcParams['figure.figsize'] = (6, 6)\n",
    "import datajoint as dj\n",
    "from pipeline import preprocess, vis\n"
   ]
  },
  {
   "cell_type": "markdown",
   "metadata": {},
   "source": [
    "All kinds of stimuli are synchronized and matched exactly the same way using stimulus-neutral tables `preprocess.Sync`, `vis.Session`, `vis.Trial`, and `vis.Condition`.  All information pertaining to specific stimuli is stored in tables immediately belore `vis.Condition`."
   ]
  },
  {
   "cell_type": "code",
   "execution_count": null,
   "metadata": {},
   "outputs": [],
   "source": [
    "(dj.ERD(preprocess.Sync)-1+vis.Trial+(dj.ERD(vis.Condition)+1)).draw()"
   ]
  },
  {
   "cell_type": "code",
   "execution_count": null,
   "metadata": {},
   "outputs": [],
   "source": [
    "preprocess.Sync().heading"
   ]
  },
  {
   "cell_type": "code",
   "execution_count": null,
   "metadata": {},
   "outputs": [],
   "source": [
    "vis.Trial().heading"
   ]
  },
  {
   "cell_type": "markdown",
   "metadata": {},
   "source": [
    "---\n",
    "\n",
    "Let's pick an arbitrary scan that has Monet trials in it."
   ]
  },
  {
   "cell_type": "code",
   "execution_count": null,
   "metadata": {},
   "outputs": [],
   "source": [
    "scan_keys = list((preprocess.Sync() & vis.Monet()).fetch.keys())   # get the keys of all scans with Monet\n",
    "key = scan_keys[10]   # let's pick an arbitrary scan\n",
    "dict(key)"
   ]
  },
  {
   "cell_type": "markdown",
   "metadata": {},
   "source": [
    "Joining `preprocess.Sync*vis.Trial` provides all the trials that were played for the given scan.  \n",
    "Use the `first_trial` and `last_trial` fields to only include trials that played between the start time and the stop time of the scan."
   ]
  },
  {
   "cell_type": "code",
   "execution_count": null,
   "metadata": {},
   "outputs": [],
   "source": [
    "matched_trials = preprocess.Sync()*vis.Trial() & 'trial_idx between first_trial and last_trial' & key\n",
    "matched_trials "
   ]
  },
  {
   "cell_type": "markdown",
   "metadata": {},
   "source": [
    "---\n",
    "Now `matched_trials` contains almost all the information about the trials except the bitmaps stimulus conditions themselves, which are stored in vis.Monet and vis.MonetLookup()\n",
    "Let's join them into the the same relation:"
   ]
  },
  {
   "cell_type": "code",
   "execution_count": null,
   "metadata": {},
   "outputs": [],
   "source": [
    "matched_trials *= vis.Monet()*vis.MonetLookup()\n",
    "matched_trials"
   ]
  },
  {
   "cell_type": "markdown",
   "metadata": {},
   "source": [
    "Now `matched_trials` contains all the infromation about all the trials for the scan identify by `key`.\n",
    "All that remains to be done is to fetch the contents.\n",
    "```python\n",
    "info = match_trials.fetch()   \n",
    "```"
   ]
  },
  {
   "cell_type": "markdown",
   "metadata": {},
   "source": [
    "---\n",
    "Next [process Monet](pipeline_prepare_monet.ipynb) "
   ]
  }
 ],
 "metadata": {
  "kernelspec": {
   "display_name": "Python 3",
   "language": "python",
   "name": "python3"
  },
  "language_info": {
   "codemirror_mode": {
    "name": "ipython",
    "version": 3
   },
   "file_extension": ".py",
   "mimetype": "text/x-python",
   "name": "python",
   "nbconvert_exporter": "python",
   "pygments_lexer": "ipython3",
   "version": "3.5.0"
  }
 },
 "nbformat": 4,
 "nbformat_minor": 0
}
