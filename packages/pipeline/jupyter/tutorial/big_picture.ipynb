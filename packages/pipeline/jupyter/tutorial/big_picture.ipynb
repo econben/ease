{
 "cells": [
  {
   "cell_type": "markdown",
   "metadata": {},
   "source": [
    "Previous: [Intro](pipeline_intro.ipynb)  ::: Next [pipeline.experiment](pipeline_experiment.ipynb)\n",
    "\n",
    "# The Big Picture"
   ]
  },
  {
   "cell_type": "code",
   "execution_count": null,
   "metadata": {},
   "outputs": [],
   "source": [
    "%pylab inline\n",
    "import datajoint as dj\n",
    "from pipeline import mice, experiment, vis, preprocess, tuning\n",
    "pylab.rcParams['figure.figsize'] = (8, 8)  # make figures bigger"
   ]
  },
  {
   "cell_type": "markdown",
   "metadata": {},
   "source": [
    "Below is the outline of processing chain. \n",
    "\n",
    "Each schema corresponds to a module in the `pipeline` package *and* the corresponding database on the server.\n",
    "\n",
    "Each node represents a class in the module *and* a table in the database.\n",
    "\n",
    "Lines represents dependencies.\n",
    "\n",
    "* The pipeline starts with the manual information entered in the schemas `mice` and `experiment`.  \n",
    "* The visual stimulus information is stored in the `vis` schema.  \n",
    "* The schema `preprocess` extracts traces, infers spikes, and synchronizes two-photon data to the visual stimulus."
   ]
  },
  {
   "cell_type": "code",
   "execution_count": null,
   "metadata": {},
   "outputs": [],
   "source": [
    "erd = dj.ERD(preprocess.Sync) - 2\n",
    "erd += dj.ERD(preprocess.Spikes) - 3 \n",
    "erd += experiment.Session \n",
    "erd += dj.ERD(tuning.MonetRF.Map) - 1\n",
    "erd.draw()"
   ]
  },
  {
   "cell_type": "markdown",
   "metadata": {},
   "source": [
    "The color code: \n",
    "* <span style=\"background-color: #BBDDBB\">Manual</span> (e.g. `experiment.Scan`) is data entered *manually* or by external software.\n",
    "* <span style=\"background-color: #BBBBDD\">Imported</span> (e.g. `preprocess.Prepare`) is data *imported* from external files by datajoint, requires access to local drives in the lab.\n",
    "* <span style=\"background-color: #FFBBBB\">Computed</span> (e.g. `preprocess.ComputeTraces`) is *computed* by datajoint from data already in the database without access to external files, can be repopulated in the cloud.\n",
    "* <span style=\"background-color: #DDDDDD\">Lookup</span> (e.g. `preprocess.Method`) are *lookup* tables containing general information that is not specific to any one experiment.  These often contain processing settings and general  knowledge. "
   ]
  },
  {
   "cell_type": "markdown",
   "metadata": {},
   "source": [
    "---\n",
    "For any table, you can see its definition (attributes, dependencies, comments) by using the `show_definition` method."
   ]
  },
  {
   "cell_type": "code",
   "execution_count": null,
   "metadata": {},
   "outputs": [],
   "source": [
    "experiment.Session().show_definition();"
   ]
  },
  {
   "cell_type": "markdown",
   "metadata": {},
   "source": [
    "For any tables or relational expressions derived from them, you may see all the attributes using the `heading` attribute."
   ]
  },
  {
   "cell_type": "code",
   "execution_count": null,
   "metadata": {},
   "outputs": [],
   "source": [
    "experiment.Session().heading"
   ]
  },
  {
   "cell_type": "markdown",
   "metadata": {},
   "source": [
    "Note that the attributes above the dividing line `---` comprise the _primary key_, i.e. identifying information used for matching data across different tables.\n",
    "\n",
    "To preview the contents of a table or of a derived relational expression, simply type it at the IPython prompt."
   ]
  },
  {
   "cell_type": "code",
   "execution_count": null,
   "metadata": {},
   "outputs": [],
   "source": [
    "experiment.Session()"
   ]
  },
  {
   "cell_type": "markdown",
   "metadata": {},
   "source": [
    "To fetch the contents of a table or a derived relational expression into a numpy record array, use the fetch method.\n"
   ]
  },
  {
   "cell_type": "code",
   "execution_count": null,
   "metadata": {},
   "outputs": [],
   "source": [
    "data = experiment.Session().fetch()"
   ]
  },
  {
   "cell_type": "markdown",
   "metadata": {},
   "source": [
    "Next: [pipeline.experiment](pipeline_experiment.ipynb)"
   ]
  }
 ],
 "metadata": {
  "kernelspec": {
   "display_name": "Python 3",
   "language": "python",
   "name": "python3"
  },
  "language_info": {
   "codemirror_mode": {
    "name": "ipython",
    "version": 3
   },
   "file_extension": ".py",
   "mimetype": "text/x-python",
   "name": "python",
   "nbconvert_exporter": "python",
   "pygments_lexer": "ipython3",
   "version": "3.5.0"
  }
 },
 "nbformat": 4,
 "nbformat_minor": 0
}
